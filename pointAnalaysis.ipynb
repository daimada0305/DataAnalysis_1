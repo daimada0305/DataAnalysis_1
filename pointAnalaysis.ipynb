{
 "cells": [
  {
   "cell_type": "code",
   "execution_count": 462,
   "metadata": {},
   "outputs": [],
   "source": [
    "import os\n",
    "import os.path\n",
    "import pandas as pd\n",
    "import pickle\n",
    "from PIL import Image, ImageDraw\n",
    "import re"
   ]
  },
  {
   "cell_type": "code",
   "execution_count": 463,
   "metadata": {},
   "outputs": [],
   "source": [
    "def readPickle(filename):\n",
    "    # reload a file to a variable\n",
    "    with open(filename, 'rb') as file:\n",
    "        a_dict1 =pickle.load(file)\n",
    "        \n",
    "    return a_dict1"
   ]
  },
  {
   "cell_type": "code",
   "execution_count": 464,
   "metadata": {},
   "outputs": [],
   "source": [
    "def drawPicture(name, key, touchx, touchy):\n",
    "    \n",
    "    image = Image.open(r'..//img/nback.png')\n",
    "    \n",
    "    draw = ImageDraw.Draw(image)\n",
    "\n",
    "    drawPoint(draw, key, touchx, touchy)\n",
    "    \n",
    "    image.save(r'..//' + folder + '/' + name + '.png')"
   ]
  },
  {
   "cell_type": "code",
   "execution_count": 465,
   "metadata": {},
   "outputs": [],
   "source": [
    "def drawPoint(draw, keys, touchxs, touchys):\n",
    "    \n",
    "    for key, touchx, touchy in zip(keys, touchxs, touchys):\n",
    "        colorList = colorDic[key]\n",
    "        draw.rectangle((touchx-5, touchy-5, touchx+5, touchy+5), fill=(int(colorList[0]), int(colorList[1]), int(colorList[2])))"
   ]
  },
  {
   "cell_type": "code",
   "execution_count": 466,
   "metadata": {},
   "outputs": [],
   "source": [
    "colorDic = {\n",
    "            'q':['0','0','255'], 'w':['0','255','0'], 'e':['150','50','0'], 'r':['0','0','255'], 't':['0','255','0'], 'y':['150','50','0'], 'u':['0','0','255'], 'i':['0','255','0'], 'o':['150','50','0'], 'p':['0','0','255'], 'å':['0','255','0'],\n",
    "            'a':['150','255','0'], 's':['205','0','150'], 'd':['255','50','0'], 'f':['150','255','0'], 'g':['205','0','150'], 'h':['255','50','0'], 'j':['150','255','0'], 'k':['205','0','150'], 'l':['255','50','0'], 'ö':['150','255','0'], 'ä':['205','0','150'],\n",
    "            'z':['150','50','0'], 'x':['0','255','0'], 'c':['0','0','255'], 'v':['150','50','0'], 'b':['0','255','0'], 'n':['0','0','255'], 'm':['150','50','0'], '<':['0','255','0'],\n",
    "            ' ':['150','255','0']\n",
    "           }"
   ]
  },
  {
   "cell_type": "code",
   "execution_count": 467,
   "metadata": {},
   "outputs": [],
   "source": [
    "dictFix = readPickle('eyeMovementData.pkl')\n",
    "dictFin = readPickle('fingerMovementData.pkl')\n",
    "folder = 'result4'\n",
    "\n",
    "for person in dictFin.keys():\n",
    "    count = 0\n",
    "    for block in dictFin[person].keys():\n",
    "        \n",
    "        count = count + 1\n",
    "        if (count > 2):continue\n",
    "            \n",
    "        name = str(person) + '_' + str(block)\n",
    "        \n",
    "        key = []\n",
    "        touchx = []\n",
    "        touchy = []\n",
    "        \n",
    "        for sentence in dictFin[person][block].keys():\n",
    "            key = key + dictFin[person][block][sentence]['key']\n",
    "            touchx = touchx + dictFin[person][block][sentence]['touchx']\n",
    "            touchy = touchy + dictFin[person][block][sentence]['touchy']\n",
    "        \n",
    "        drawPicture(name, key, touchx, touchy)"
   ]
  }
 ],
 "metadata": {
  "kernelspec": {
   "display_name": "Python 3",
   "language": "python",
   "name": "python3"
  },
  "language_info": {
   "codemirror_mode": {
    "name": "ipython",
    "version": 3
   },
   "file_extension": ".py",
   "mimetype": "text/x-python",
   "name": "python",
   "nbconvert_exporter": "python",
   "pygments_lexer": "ipython3",
   "version": "3.6.4"
  }
 },
 "nbformat": 4,
 "nbformat_minor": 2
}
