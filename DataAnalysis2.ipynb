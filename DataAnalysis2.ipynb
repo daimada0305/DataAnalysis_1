{
 "cells": [
  {
   "cell_type": "code",
   "execution_count": 122,
   "metadata": {},
   "outputs": [],
   "source": [
    "import os\n",
    "import os.path\n",
    "import pandas as pd\n",
    "import pickle\n",
    "from PIL import Image, ImageDraw"
   ]
  },
  {
   "cell_type": "code",
   "execution_count": 123,
   "metadata": {},
   "outputs": [],
   "source": [
    "def readPickle(filename):\n",
    "\n",
    "    # reload a file to a variable\n",
    "    with open(filename, 'rb') as file:\n",
    "        a_dict1 =pickle.load(file)\n",
    "        \n",
    "    return a_dict1"
   ]
  },
  {
   "cell_type": "code",
   "execution_count": 124,
   "metadata": {},
   "outputs": [],
   "source": [
    "def drawFix(name, xf, yf, folder):\n",
    "    \n",
    "    name = name.replace(' ', '(space)').replace('<', '(back)')\n",
    "    image = Image.open(r'..//img/back.png')\n",
    "\n",
    "    if(os.path.isfile(r'..//' + folder + '/' + name + '.png') is True):\n",
    "        image = Image.open(r'..//' + folder + '/' + name + '.png')\n",
    "        \n",
    "    draw = ImageDraw.Draw(image)\n",
    "    \n",
    "    for i in range(1, len(xf)):\n",
    "        draw.line((xf[i-1], yf[i-1], xf[i], yf[i]), fill=(255, 192, 203), width=10)\n",
    "        \n",
    "    if len(xf) is not 0: draw.ellipse((xf[0]-10, yf[0]-10, xf[0]+10, yf[0]+10), fill=(255,0,0), outline=None)\n",
    "    \n",
    "    image.save(r'..//' + folder + '/' + name + '.png')"
   ]
  },
  {
   "cell_type": "code",
   "execution_count": 125,
   "metadata": {},
   "outputs": [],
   "source": [
    "def drawTracing(name, xf, yf, folder):\n",
    "    name = name.replace(' ', '(space)').replace('<', '(back)')\n",
    "    image = Image.open(r'..//' + folder + '/' + name + '.png')\n",
    "    draw = ImageDraw.Draw(image)\n",
    "    \n",
    "    for i in range(1, len(xf)):\n",
    "        draw.line((xf[i-1], yf[i-1], xf[i], yf[i]), fill=(0,255,255), width=10)\n",
    "        \n",
    "    if len(xf) is not 0: draw.ellipse((xf[0]-10, yf[0]-10, xf[0]+10, yf[0]+10), fill=(0, 0, 255), outline=None)\n",
    "        \n",
    "    image.save(r'..//' + folder + '/' + name + '.png')"
   ]
  },
  {
   "cell_type": "code",
   "execution_count": 126,
   "metadata": {},
   "outputs": [],
   "source": [
    "dictFix = readPickle('fixationTotalDict.pkl')['509']['1']\n",
    "dictTracing = readPickle('tracingTotalDict.pkl')['509']['1']\n",
    "folder = 'result'\n",
    "\n",
    "#このデータが所持しているsentenceを出す\n",
    "sentence = []\n",
    "for index in dictFix.keys():\n",
    "    sentence.append(index)\n",
    "    \n",
    "for index in range(len(sentence)):    \n",
    "    for i in range(1, len(dictFix[sentence[index]]['key'])):\n",
    "        name = dictFix[sentence[index]]['key'][i-1] + dictFix[sentence[index]]['key'][i]\n",
    "        drawFix(name, dictFix[sentence[index]]['xf'][i], dictFix[sentence[index]]['yf'][i], folder)\n",
    "        drawTracing(name, dictTracing[sentence[index]]['xf'][i], dictTracing[sentence[index]]['yf'][i], folder)"
   ]
  },
  {
   "cell_type": "code",
   "execution_count": null,
   "metadata": {},
   "outputs": [],
   "source": []
  }
 ],
 "metadata": {
  "kernelspec": {
   "display_name": "Python 3",
   "language": "python",
   "name": "python3"
  },
  "language_info": {
   "codemirror_mode": {
    "name": "ipython",
    "version": 3
   },
   "file_extension": ".py",
   "mimetype": "text/x-python",
   "name": "python",
   "nbconvert_exporter": "python",
   "pygments_lexer": "ipython3",
   "version": "3.6.4"
  }
 },
 "nbformat": 4,
 "nbformat_minor": 2
}
