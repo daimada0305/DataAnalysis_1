{
 "cells": [
  {
   "cell_type": "code",
   "execution_count": 1,
   "metadata": {},
   "outputs": [],
   "source": [
    "import os\n",
    "import os.path\n",
    "import csv\n",
    "import pandas as pd\n",
    "import pickle"
   ]
  },
  {
   "cell_type": "code",
   "execution_count": 2,
   "metadata": {},
   "outputs": [],
   "source": [
    "def readPickle(filename):\n",
    "\n",
    "    # reload a file to a variable\n",
    "    with open(filename, 'rb') as file:\n",
    "        a_dict1 =pickle.load(file)\n",
    "        \n",
    "\n",
    "    return a_dict1"
   ]
  },
  {
   "cell_type": "code",
   "execution_count": 3,
   "metadata": {},
   "outputs": [],
   "source": [
    "def drawFix(name, xf, yf):\n",
    "    \n",
    "    name = name.replace(' ', '(space)').replace('<', '(back)')\n",
    "    \n",
    "    from PIL import Image, ImageDraw\n",
    "    \n",
    "    image = Image.open(r'..//img/back.png')\n",
    "\n",
    "    if(os.path.isfile(r'..//result/' + name +'.png')==True):\n",
    "        image = Image.open(r'..//result/' + name + '.png')\n",
    "        \n",
    "    draw = ImageDraw.Draw(image)\n",
    "    \n",
    "    for i in range(1, len(xf)):\n",
    "        draw.line((xf[i-1], yf[i-1], xf[i], yf[i]), fill=(0, 255, 0), width=10)\n",
    "    \n",
    "    image.save(r'..//result/' + name + '.png')"
   ]
  },
  {
   "cell_type": "code",
   "execution_count": null,
   "metadata": {},
   "outputs": [],
   "source": [
    "dict = readPickle('tracingTotalDict.pkl')['502']['1']\n",
    "\n",
    "\n",
    "#このデータが所持しているsentenceを出す\n",
    "sentence = []\n",
    "for index in dict.keys():\n",
    "    sentence.append(index)\n",
    "    \n",
    "    \n",
    "\n",
    "for index in range(len(sentence)):\n",
    "    xf = []\n",
    "    xy = []\n",
    "    \n",
    "    for i in range(1, len(dict[sentence[index]]['key'])):\n",
    "        name = dict[sentence[index]]['key'][i-1] + dict[sentence[index]]['key'][i]\n",
    "        xf = dict[sentence[index]]['xf'][i]\n",
    "        yf = dict[sentence[index]]['yf'][i]\n",
    "        \n",
    "        drawFix(name, xf, yf)"
   ]
  }
 ],
 "metadata": {
  "kernelspec": {
   "display_name": "Python 3",
   "language": "python",
   "name": "python3"
  },
  "language_info": {
   "codemirror_mode": {
    "name": "ipython",
    "version": 3
   },
   "file_extension": ".py",
   "mimetype": "text/x-python",
   "name": "python",
   "nbconvert_exporter": "python",
   "pygments_lexer": "ipython3",
   "version": "3.6.4"
  }
 },
 "nbformat": 4,
 "nbformat_minor": 2
}
