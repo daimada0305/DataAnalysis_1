{
 "cells": [
  {
   "cell_type": "code",
   "execution_count": 82,
   "metadata": {},
   "outputs": [],
   "source": [
    "import os\n",
    "import os.path\n",
    "import pandas as pd\n",
    "import pickle\n",
    "from PIL import Image, ImageDraw\n",
    "import re\n",
    "import math\n",
    "from collections import defaultdict"
   ]
  },
  {
   "cell_type": "code",
   "execution_count": 83,
   "metadata": {},
   "outputs": [],
   "source": [
    "def readPickle(filename):\n",
    "\n",
    "    # reload a file to a variable\n",
    "    with open(filename, 'rb') as file:\n",
    "        a_dict1 =pickle.load(file)\n",
    "        \n",
    "    return a_dict1"
   ]
  },
  {
   "cell_type": "code",
   "execution_count": 84,
   "metadata": {},
   "outputs": [],
   "source": [
    "def get2Distance(x1, y1, x2, y2):\n",
    "    distance = math.sqrt((x2 - x1) ** 2 + (y2 - y1) ** 2)\n",
    "    return distance\n",
    "\n",
    "def get3Distance(x1, y1, z1, x2, y2, z2):\n",
    "    distance = math.sqrt((x2 - x1) ** 2 + (y2 - y1) ** 2 + (z2 - z1) ** 2)\n",
    "    return distance"
   ]
  },
  {
   "cell_type": "code",
   "execution_count": null,
   "metadata": {},
   "outputs": [],
   "source": [
    "dictFix = readPickle('eyeMovementData.pkl')\n",
    "dictFin = readPickle('fingerMovementData.pkl')\n",
    "\n",
    "for person in dictFin.keys():\n",
    "    print(person)\n",
    "    d = defaultdict(list)\n",
    "    for sentence in dictFin[person]['2'].keys():\n",
    "        key = dictFin[person]['2'][sentence]['key']\n",
    "        touchx = dictFin[person]['2'][sentence]['touchx']\n",
    "        touchy = dictFin[person]['2'][sentence]['touchy']\n",
    "        x = dictFin[person]['2'][sentence]['x1']\n",
    "        y = dictFin[person]['2'][sentence]['y1']\n",
    "        z = dictFin[person]['2'][sentence]['z1']\n",
    "        \n",
    "        for t in range(1, len(key)):\n",
    "            key_distance = get2Distance(touchx[t-1], touchy[t-1], touchx[t], touchy[t])\n",
    "            px = x[t]\n",
    "            py = y[t]\n",
    "            pz = z[t]\n",
    "\n",
    "            \n",
    "            finger_path = 0\n",
    "            for p in range(1, len(px)):\n",
    "                finger_path = finger_path + get3Distance(px[p-1], py[p-1], pz[p-1], px[p], py[p], pz[p])\n",
    "            \n",
    "            word = key[t-1] + \" -> \" + key[t]\n",
    "            \n",
    "            try:\n",
    "                efficiency = key_distance / finger_path\n",
    "                d[word].append(efficiency)\n",
    "            except ZeroDivisionError: None\n",
    "    \n",
    "    print(d)\n",
    "    \n",
    "    \n",
    "    \n",
    "    #d = sorted(d.items())\n",
    "    #for wordList in d:\n",
    "     #   averageTime = sum(wordList[1]) / len(wordList[1])\n",
    "       # print(wordList[0], averageTime)\n",
    "    #\n",
    "    #print(\"\\n\") "
   ]
  }
 ],
 "metadata": {
  "kernelspec": {
   "display_name": "Python 3",
   "language": "python",
   "name": "python3"
  },
  "language_info": {
   "codemirror_mode": {
    "name": "ipython",
    "version": 3
   },
   "file_extension": ".py",
   "mimetype": "text/x-python",
   "name": "python",
   "nbconvert_exporter": "python",
   "pygments_lexer": "ipython3",
   "version": "3.6.4"
  }
 },
 "nbformat": 4,
 "nbformat_minor": 2
}
