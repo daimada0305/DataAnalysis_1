{
 "cells": [
  {
   "cell_type": "code",
   "execution_count": 93,
   "metadata": {},
   "outputs": [],
   "source": [
    "import os\n",
    "import os.path\n",
    "import pandas as pd\n",
    "import pickle\n",
    "from PIL import Image, ImageDraw\n",
    "import re"
   ]
  },
  {
   "cell_type": "code",
   "execution_count": 94,
   "metadata": {},
   "outputs": [],
   "source": [
    "def readPickle(filename):\n",
    "\n",
    "    # reload a file to a variable\n",
    "    with open(filename, 'rb') as file:\n",
    "        a_dict1 =pickle.load(file)\n",
    "        \n",
    "    return a_dict1"
   ]
  },
  {
   "cell_type": "code",
   "execution_count": 95,
   "metadata": {},
   "outputs": [],
   "source": [
    "def drawPicture(name, xfFix, yfFix, xfTracing, yfTracing, folder):\n",
    "    \n",
    "    name = nameJude(name, folder)\n",
    "    image = Image.open(r'..//img/back.png')\n",
    "    \n",
    "    draw = ImageDraw.Draw(image)\n",
    "\n",
    "    drawObject(draw, xfFix, yfFix, 255, 0, 0, 255, 0, 255)\n",
    "    drawObject(draw, xfTracing, yfTracing, 0, 0, 255, 0, 255, 255)\n",
    "        \n",
    "    image.save(r'..//' + folder + '/' + name + '.png')"
   ]
  },
  {
   "cell_type": "code",
   "execution_count": 96,
   "metadata": {},
   "outputs": [
    {
     "ename": "SyntaxError",
     "evalue": "invalid syntax (<ipython-input-96-6ae59571c6d1>, line 11)",
     "output_type": "error",
     "traceback": [
      "\u001b[1;36m  File \u001b[1;32m\"<ipython-input-96-6ae59571c6d1>\"\u001b[1;36m, line \u001b[1;32m11\u001b[0m\n\u001b[1;33m    bxf = 0  byf = 0\u001b[0m\n\u001b[1;37m               ^\u001b[0m\n\u001b[1;31mSyntaxError\u001b[0m\u001b[1;31m:\u001b[0m invalid syntax\n"
     ]
    }
   ],
   "source": [
    "def drawObject(draw, xf, yf, eR, eG, eB, lR, lG, lB):\n",
    "    \n",
    "    bxf = 0 \n",
    "    byf = 0\n",
    "\n",
    "    #画像に線を引く\n",
    "    for i in range(len(xf)):\n",
    "        for j in range(1, len(xf[i])):\n",
    "            if bxf is not 0: \n",
    "                draw.line((bxf, byf, xf[i][0], yf[i][0]), fill=(lR, lG, lB), width=10)\n",
    "                bxf = 0\n",
    "                byf = 0\n",
    "                \n",
    "            draw.line((xf[i][j-1], yf[i][j-1], xf[i][j], yf[i][j]), fill=(lR, lG, lB), width=10)\n",
    "            \n",
    "            if j is len(xf[i])-1: \n",
    "                bxf=xf[i][j]\n",
    "                byf=yf[i][j]\n",
    "            \n",
    "        if len(xf[i]) is not 0: draw.ellipse((xf[i][0]-10, yf[i][0]-10, xf[i][0]+10, yf[i][0]+10), \n",
    "                                                                      fill=(eR, eG, eB), outline=None)"
   ]
  },
  {
   "cell_type": "code",
   "execution_count": 91,
   "metadata": {},
   "outputs": [],
   "source": [
    "#ファイル名を検索して、決定するメソッド\n",
    "def nameJude(name, folder):\n",
    "    \n",
    "    #保存フォルダが持つファイルの取得\n",
    "    files = os.listdir(r'..//' + folder)\n",
    "    \n",
    "    #保存できない記号の変更\n",
    "    name = name.replace('<', '(back)')\n",
    "    name = name + '_'\n",
    "    \n",
    "    count = 0\n",
    "    for file in files:\n",
    "        index = re.search(name, file)\n",
    "        if index: count+=1\n",
    "        \n",
    "    name = name + str(count+1)\n",
    "    \n",
    "    return name"
   ]
  },
  {
   "cell_type": "code",
   "execution_count": 92,
   "metadata": {},
   "outputs": [],
   "source": [
    "dictFix = readPickle('fixationTotalDict.pkl')['506']['1']\n",
    "dictTracing = readPickle('tracingTotalDict.pkl')['506']['1']\n",
    "folder = 'result'\n",
    "\n",
    "#このデータが所持しているsentenceを出す\n",
    "sentence = []\n",
    "for index in dictFix.keys():\n",
    "    sentence.append(index)\n",
    "    \n",
    "##################################\n",
    "\n",
    "#sentenceの数だけ回す    \n",
    "for index in range(len(sentence)):\n",
    "    \n",
    "##########\n",
    "    \n",
    "    spacePlace = [] #スペースの位置を保管\n",
    "    \n",
    "    for space in range(len(dictFix[sentence[index]]['key'])):\n",
    "        if dictFix[sentence[index]]['key'][space] is ' ' : spacePlace.append(space)\n",
    "   \n",
    "    #####\n",
    "    \n",
    "    \n",
    "    #値の初期化\n",
    "    start = 1 #wordの始まり\n",
    "    \n",
    "    #空白までの情報を取る\n",
    "    for space in range(len(spacePlace)): \n",
    "        xfFix = [] #Fixaction xf\n",
    "        yfFix = [] #Fixaction yf\n",
    "        xfTracing = [] #Tracing xf\n",
    "        yfTracing = [] #Tracing yf\n",
    "    \n",
    "        name = dictFix[sentence[index]]['key'][start-1] #ファイル名\n",
    "        for pick in range(start, spacePlace[space]):\n",
    "            name = name + dictFix[sentence[index]]['key'][pick]\n",
    "            xfFix.append(dictFix[sentence[index]]['xf'][pick])\n",
    "            yfFix.append(dictFix[sentence[index]]['yf'][pick])\n",
    "            xfTracing.append(dictTracing[sentence[index]]['xf'][pick])\n",
    "            yfTracing.append(dictTracing[sentence[index]]['yf'][pick])\n",
    "            \n",
    "        #####\n",
    "        \n",
    "        \n",
    "        \n",
    "        #画像に描写する\n",
    "        drawPicture(name, xfFix, yfFix, xfTracing, yfTracing, folder)\n",
    "                \n",
    "        #####\n",
    "        \n",
    "        start = spacePlace[space]+2"
   ]
  }
 ],
 "metadata": {
  "kernelspec": {
   "display_name": "Python 3",
   "language": "python",
   "name": "python3"
  },
  "language_info": {
   "codemirror_mode": {
    "name": "ipython",
    "version": 3
   },
   "file_extension": ".py",
   "mimetype": "text/x-python",
   "name": "python",
   "nbconvert_exporter": "python",
   "pygments_lexer": "ipython3",
   "version": "3.6.4"
  }
 },
 "nbformat": 4,
 "nbformat_minor": 2
}
