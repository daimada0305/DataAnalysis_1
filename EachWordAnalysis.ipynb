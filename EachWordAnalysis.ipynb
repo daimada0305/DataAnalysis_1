{
 "cells": [
  {
   "cell_type": "code",
   "execution_count": 91,
   "metadata": {},
   "outputs": [],
   "source": [
    "import os\n",
    "import os.path\n",
    "import pandas as pd\n",
    "import pickle\n",
    "from PIL import Image, ImageDraw\n",
    "import re"
   ]
  },
  {
   "cell_type": "code",
   "execution_count": 92,
   "metadata": {},
   "outputs": [],
   "source": [
    "def readPickle(filename):\n",
    "\n",
    "    # reload a file to a variable\n",
    "    with open(filename, 'rb') as file:\n",
    "        a_dict1 =pickle.load(file)\n",
    "        \n",
    "    return a_dict1"
   ]
  },
  {
   "cell_type": "code",
   "execution_count": 93,
   "metadata": {},
   "outputs": [],
   "source": [
    "def drawPicture(name, xfFix, yfFix, xfTra, yfTra, folder):\n",
    "    \n",
    "    name = nameJude(name, folder)\n",
    "    image = Image.open(r'..//img/back.png')\n",
    "    \n",
    "    draw = ImageDraw.Draw(image)\n",
    "\n",
    "    drawObject(draw, xfFix, yfFix, 0, 0, 255, 255, 30, 0, \"Fix\")\n",
    "    drawObject(draw, xfTra, yfTra, 255, 0, 0, 255, 255, 0, \"Tracing\")\n",
    "        \n",
    "    image.save(r'..//' + folder + '/' + name + '.png')"
   ]
  },
  {
   "cell_type": "code",
   "execution_count": 94,
   "metadata": {},
   "outputs": [],
   "source": [
    "def drawObject(draw, xf, yf, eR, eG, eB, lR, lG, lB, kind):\n",
    "    \n",
    "    bxf = 0 \n",
    "    byf = 0\n",
    "    \n",
    "    q = int(255/len(xf))\n",
    "\n",
    "    #画像に線を引く\n",
    "    for i in range(len(xf)):  \n",
    "        for j in range(1, len(xf[i])):\n",
    "            if bxf is not 0: \n",
    "                draw.line((bxf, byf, xf[i][j], yf[i][j]), fill=(lR2, lG2, lB2), width=10)\n",
    "                bxf = 0\n",
    "                byf = 0\n",
    "            \n",
    "            draw.line((xf[i][j-1], yf[i][j-1], xf[i][j], yf[i][j]), fill=(lR, lG, lB), width=10)\n",
    "            \n",
    "            if j is len(xf[i])-1: \n",
    "                bxf=xf[i][j]\n",
    "                byf=yf[i][j]\n",
    "                lR2 = lR\n",
    "                lG2 = lG\n",
    "                lB2 = lB\n",
    "            \n",
    "        if len(xf[i]) is not 0: draw.ellipse((xf[i][0]-10, yf[i][0]-10, xf[i][0]+10, yf[i][0]+10), \n",
    "                                                                      fill=(eR, eG, eB), outline=None)\n",
    "            \n",
    "        lR = lR - q\n",
    "        if kind is \"Fix\": lB = lB + q"
   ]
  },
  {
   "cell_type": "code",
   "execution_count": 95,
   "metadata": {},
   "outputs": [],
   "source": [
    "#ファイル名を検索して、決定するメソッド\n",
    "def nameJude(name, folder):\n",
    "    \n",
    "    #保存フォルダが持つファイルの取得\n",
    "    files = os.listdir(r'..//' + folder)\n",
    "    \n",
    "    #保存できない記号の変更\n",
    "    name = name.replace('<', '(back)')\n",
    "    name = name + '_'\n",
    "    \n",
    "    count = 0\n",
    "    for file in files:\n",
    "        index = re.search(name, file)\n",
    "        if index: count+=1\n",
    "        \n",
    "    name = name + str(count+1)\n",
    "    \n",
    "    return name"
   ]
  },
  {
   "cell_type": "code",
   "execution_count": 96,
   "metadata": {},
   "outputs": [
    {
     "ename": "KeyboardInterrupt",
     "evalue": "",
     "output_type": "error",
     "traceback": [
      "\u001b[1;31m---------------------------------------------------------------------------\u001b[0m",
      "\u001b[1;31mAttributeError\u001b[0m                            Traceback (most recent call last)",
      "\u001b[1;32m~\\Anaconda3\\lib\\site-packages\\PIL\\ImageFile.py\u001b[0m in \u001b[0;36m_save\u001b[1;34m(im, fp, tile, bufsize)\u001b[0m\n\u001b[0;32m    481\u001b[0m     \u001b[1;32mtry\u001b[0m\u001b[1;33m:\u001b[0m\u001b[1;33m\u001b[0m\u001b[0m\n\u001b[1;32m--> 482\u001b[1;33m         \u001b[0mfh\u001b[0m \u001b[1;33m=\u001b[0m \u001b[0mfp\u001b[0m\u001b[1;33m.\u001b[0m\u001b[0mfileno\u001b[0m\u001b[1;33m(\u001b[0m\u001b[1;33m)\u001b[0m\u001b[1;33m\u001b[0m\u001b[0m\n\u001b[0m\u001b[0;32m    483\u001b[0m         \u001b[0mfp\u001b[0m\u001b[1;33m.\u001b[0m\u001b[0mflush\u001b[0m\u001b[1;33m(\u001b[0m\u001b[1;33m)\u001b[0m\u001b[1;33m\u001b[0m\u001b[0m\n",
      "\u001b[1;31mAttributeError\u001b[0m: '_idat' object has no attribute 'fileno'",
      "\nDuring handling of the above exception, another exception occurred:\n",
      "\u001b[1;31mKeyboardInterrupt\u001b[0m                         Traceback (most recent call last)",
      "\u001b[1;32m<ipython-input-96-46af572bba6b>\u001b[0m in \u001b[0;36m<module>\u001b[1;34m()\u001b[0m\n\u001b[0;32m     44\u001b[0m \u001b[1;33m\u001b[0m\u001b[0m\n\u001b[0;32m     45\u001b[0m                 \u001b[1;31m#画像に描写する\u001b[0m\u001b[1;33m\u001b[0m\u001b[1;33m\u001b[0m\u001b[0m\n\u001b[1;32m---> 46\u001b[1;33m                 \u001b[0mdrawPicture\u001b[0m\u001b[1;33m(\u001b[0m\u001b[0mname\u001b[0m\u001b[1;33m,\u001b[0m \u001b[0mxfFix\u001b[0m\u001b[1;33m,\u001b[0m \u001b[0myfFix\u001b[0m\u001b[1;33m,\u001b[0m \u001b[0mxfTracing\u001b[0m\u001b[1;33m,\u001b[0m \u001b[0myfTracing\u001b[0m\u001b[1;33m,\u001b[0m \u001b[0mfolder\u001b[0m\u001b[1;33m)\u001b[0m\u001b[1;33m\u001b[0m\u001b[0m\n\u001b[0m\u001b[0;32m     47\u001b[0m \u001b[1;33m\u001b[0m\u001b[0m\n\u001b[0;32m     48\u001b[0m                 \u001b[1;31m#####\u001b[0m\u001b[1;33m\u001b[0m\u001b[1;33m\u001b[0m\u001b[0m\n",
      "\u001b[1;32m<ipython-input-93-590f897696fc>\u001b[0m in \u001b[0;36mdrawPicture\u001b[1;34m(name, xfFix, yfFix, xfTra, yfTra, folder)\u001b[0m\n\u001b[0;32m      9\u001b[0m     \u001b[0mdrawObject\u001b[0m\u001b[1;33m(\u001b[0m\u001b[0mdraw\u001b[0m\u001b[1;33m,\u001b[0m \u001b[0mxfTra\u001b[0m\u001b[1;33m,\u001b[0m \u001b[0myfTra\u001b[0m\u001b[1;33m,\u001b[0m \u001b[1;36m0\u001b[0m\u001b[1;33m,\u001b[0m \u001b[1;36m0\u001b[0m\u001b[1;33m,\u001b[0m \u001b[1;36m255\u001b[0m\u001b[1;33m,\u001b[0m \u001b[1;36m255\u001b[0m\u001b[1;33m,\u001b[0m \u001b[1;36m30\u001b[0m\u001b[1;33m,\u001b[0m \u001b[1;36m0\u001b[0m\u001b[1;33m,\u001b[0m \u001b[1;34m\"Tracing\"\u001b[0m\u001b[1;33m)\u001b[0m\u001b[1;33m\u001b[0m\u001b[0m\n\u001b[0;32m     10\u001b[0m \u001b[1;33m\u001b[0m\u001b[0m\n\u001b[1;32m---> 11\u001b[1;33m     \u001b[0mimage\u001b[0m\u001b[1;33m.\u001b[0m\u001b[0msave\u001b[0m\u001b[1;33m(\u001b[0m\u001b[1;34mr'..//'\u001b[0m \u001b[1;33m+\u001b[0m \u001b[0mfolder\u001b[0m \u001b[1;33m+\u001b[0m \u001b[1;34m'/'\u001b[0m \u001b[1;33m+\u001b[0m \u001b[0mname\u001b[0m \u001b[1;33m+\u001b[0m \u001b[1;34m'.png'\u001b[0m\u001b[1;33m)\u001b[0m\u001b[1;33m\u001b[0m\u001b[0m\n\u001b[0m",
      "\u001b[1;32m~\\Anaconda3\\lib\\site-packages\\PIL\\Image.py\u001b[0m in \u001b[0;36msave\u001b[1;34m(self, fp, format, **params)\u001b[0m\n\u001b[0;32m   1928\u001b[0m \u001b[1;33m\u001b[0m\u001b[0m\n\u001b[0;32m   1929\u001b[0m         \u001b[1;32mtry\u001b[0m\u001b[1;33m:\u001b[0m\u001b[1;33m\u001b[0m\u001b[0m\n\u001b[1;32m-> 1930\u001b[1;33m             \u001b[0msave_handler\u001b[0m\u001b[1;33m(\u001b[0m\u001b[0mself\u001b[0m\u001b[1;33m,\u001b[0m \u001b[0mfp\u001b[0m\u001b[1;33m,\u001b[0m \u001b[0mfilename\u001b[0m\u001b[1;33m)\u001b[0m\u001b[1;33m\u001b[0m\u001b[0m\n\u001b[0m\u001b[0;32m   1931\u001b[0m         \u001b[1;32mfinally\u001b[0m\u001b[1;33m:\u001b[0m\u001b[1;33m\u001b[0m\u001b[0m\n\u001b[0;32m   1932\u001b[0m             \u001b[1;31m# do what we can to clean up\u001b[0m\u001b[1;33m\u001b[0m\u001b[1;33m\u001b[0m\u001b[0m\n",
      "\u001b[1;32m~\\Anaconda3\\lib\\site-packages\\PIL\\PngImagePlugin.py\u001b[0m in \u001b[0;36m_save\u001b[1;34m(im, fp, filename, chunk)\u001b[0m\n\u001b[0;32m    819\u001b[0m \u001b[1;33m\u001b[0m\u001b[0m\n\u001b[0;32m    820\u001b[0m     ImageFile._save(im, _idat(fp, chunk),\n\u001b[1;32m--> 821\u001b[1;33m                     [(\"zip\", (0, 0)+im.size, 0, rawmode)])\n\u001b[0m\u001b[0;32m    822\u001b[0m \u001b[1;33m\u001b[0m\u001b[0m\n\u001b[0;32m    823\u001b[0m     \u001b[0mchunk\u001b[0m\u001b[1;33m(\u001b[0m\u001b[0mfp\u001b[0m\u001b[1;33m,\u001b[0m \u001b[1;34mb\"IEND\"\u001b[0m\u001b[1;33m,\u001b[0m \u001b[1;34mb\"\"\u001b[0m\u001b[1;33m)\u001b[0m\u001b[1;33m\u001b[0m\u001b[0m\n",
      "\u001b[1;32m~\\Anaconda3\\lib\\site-packages\\PIL\\ImageFile.py\u001b[0m in \u001b[0;36m_save\u001b[1;34m(im, fp, tile, bufsize)\u001b[0m\n\u001b[0;32m    494\u001b[0m             \u001b[1;32melse\u001b[0m\u001b[1;33m:\u001b[0m\u001b[1;33m\u001b[0m\u001b[0m\n\u001b[0;32m    495\u001b[0m                 \u001b[1;32mwhile\u001b[0m \u001b[1;32mTrue\u001b[0m\u001b[1;33m:\u001b[0m\u001b[1;33m\u001b[0m\u001b[0m\n\u001b[1;32m--> 496\u001b[1;33m                     \u001b[0ml\u001b[0m\u001b[1;33m,\u001b[0m \u001b[0ms\u001b[0m\u001b[1;33m,\u001b[0m \u001b[0md\u001b[0m \u001b[1;33m=\u001b[0m \u001b[0me\u001b[0m\u001b[1;33m.\u001b[0m\u001b[0mencode\u001b[0m\u001b[1;33m(\u001b[0m\u001b[0mbufsize\u001b[0m\u001b[1;33m)\u001b[0m\u001b[1;33m\u001b[0m\u001b[0m\n\u001b[0m\u001b[0;32m    497\u001b[0m                     \u001b[0mfp\u001b[0m\u001b[1;33m.\u001b[0m\u001b[0mwrite\u001b[0m\u001b[1;33m(\u001b[0m\u001b[0md\u001b[0m\u001b[1;33m)\u001b[0m\u001b[1;33m\u001b[0m\u001b[0m\n\u001b[0;32m    498\u001b[0m                     \u001b[1;32mif\u001b[0m \u001b[0ms\u001b[0m\u001b[1;33m:\u001b[0m\u001b[1;33m\u001b[0m\u001b[0m\n",
      "\u001b[1;31mKeyboardInterrupt\u001b[0m: "
     ]
    }
   ],
   "source": [
    "dictFix = readPickle('fixationTotalDict.pkl')\n",
    "dictTracing = readPickle('tracingTotalDict.pkl')\n",
    "folder = 'result3'\n",
    "\n",
    "for person in dictFix.keys():\n",
    "    for block in dictFix[person].keys():\n",
    "        for sentence in dictFix[person][block].keys():\n",
    "    \n",
    "##########\n",
    "\n",
    "            spacePlace = [] #スペースの位置を保管\n",
    "    \n",
    "            try:\n",
    "                for space in range(len(dictTracing[person][block][sentence]['key'])):\n",
    "                    if dictTracing[person][block][sentence]['key'][space] is ' ' : spacePlace.append(space)\n",
    "                        \n",
    "            except: continue\n",
    "   \n",
    "                #####\n",
    "\n",
    "            #値の初期化\n",
    "            start = 1 #wordの始まり\n",
    "\n",
    "            #空白までの情報を取る\n",
    "            for space in range(len(spacePlace)): \n",
    "                xfFix = [] #Fixaction xf\n",
    "                yfFix = [] #Fixaction yf\n",
    "                xfTracing = [] #Tracing xf\n",
    "                yfTracing = [] #Tracing yf\n",
    "\n",
    "                name = dictFix[person][block][sentence]['key'][start-1] #ファイル名\n",
    "                for pick in range(start, spacePlace[space]):\n",
    "                    name = name + dictFix[person][block][sentence]['key'][pick]\n",
    "                    xfFix.append(dictFix[person][block][sentence]['xf'][pick])\n",
    "                    yfFix.append(dictFix[person][block][sentence]['yf'][pick])\n",
    "                    xfTracing.append(dictTracing[person][block][sentence]['xf'][pick])\n",
    "                    yfTracing.append(dictTracing[person][block][sentence]['yf'][pick])\n",
    "\n",
    "                #####\n",
    "\n",
    "                        \n",
    "                name = str(person) + '_' + str(block) + '_' + str(sentence) + '_' + name \n",
    "            \n",
    "                \n",
    "                #画像に描写する\n",
    "                drawPicture(name, xfFix, yfFix, xfTracing, yfTracing, folder)\n",
    "\n",
    "                #####\n",
    "        \n",
    "                start = spacePlace[space]+2\n",
    "    break\n",
    "break"
   ]
  }
 ],
 "metadata": {
  "kernelspec": {
   "display_name": "Python 3",
   "language": "python",
   "name": "python3"
  },
  "language_info": {
   "codemirror_mode": {
    "name": "ipython",
    "version": 3
   },
   "file_extension": ".py",
   "mimetype": "text/x-python",
   "name": "python",
   "nbconvert_exporter": "python",
   "pygments_lexer": "ipython3",
   "version": "3.6.4"
  }
 },
 "nbformat": 4,
 "nbformat_minor": 2
}
