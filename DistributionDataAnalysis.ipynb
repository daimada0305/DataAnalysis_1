{
 "cells": [
  {
   "cell_type": "code",
   "execution_count": 2,
   "metadata": {},
   "outputs": [],
   "source": [
    "import os\n",
    "import os.path\n",
    "import pandas as pd\n",
    "import pickle\n",
    "from PIL import Image, ImageDraw\n",
    "import re\n",
    "import math\n",
    "import numpy as np\n",
    "import matplotlib.pyplot as plt"
   ]
  },
  {
   "cell_type": "code",
   "execution_count": 3,
   "metadata": {},
   "outputs": [],
   "source": [
    "def readPickle(filename):\n",
    "\n",
    "    # reload a file to a variable\n",
    "    with open(filename, 'rb') as file:\n",
    "        a_dict1 =pickle.load(file)\n",
    "        \n",
    "    return a_dict1"
   ]
  },
  {
   "cell_type": "code",
   "execution_count": 4,
   "metadata": {},
   "outputs": [],
   "source": [
    "def get2Distance(x1, y1, x2, y2):\n",
    "    distance = math.sqrt((x2 - x1) ** 2 + (y2 - y1) ** 2)\n",
    "    return distance\n",
    "\n",
    "def get3Distance(x1, y1, z1, x2, y2, z2):\n",
    "    distance = math.sqrt((x2 - x1) ** 2 + (y2 - y1) ** 2 + (z2 - z1) ** 2)\n",
    "    return distance"
   ]
  },
  {
   "cell_type": "code",
   "execution_count": null,
   "metadata": {},
   "outputs": [],
   "source": [
    "dictFix = readPickle('eyeMovementData.pkl')\n",
    "dictFin = readPickle('fingerMovementData.pkl')\n",
    "\n",
    "count = 1\n",
    "for person in dictFin.keys():\n",
    "    plt.figure(count)\n",
    "    plt.title(person)\n",
    "    for sentence in dictFin[person]['2'].keys():\n",
    "        iki = dictFin[person]['2'][sentence]['IKI']\n",
    "        touchx = dictFin[person]['2'][sentence]['touchx']\n",
    "        touchy = dictFin[person]['2'][sentence]['touchy']\n",
    "        x = dictFin[person]['2'][sentence]['x1']\n",
    "        y = dictFin[person]['2'][sentence]['y1']\n",
    "        z = dictFin[person]['2'][sentence]['z1']\n",
    "        \n",
    "        for t in range(1, len(iki)):\n",
    "            key_distance = get2Distance(touchx[t-1], touchy[t-1], touchx[t], touchy[t])\n",
    "            px = x[t]\n",
    "            py = y[t]\n",
    "            pz = z[t]\n",
    "            \n",
    "            finger_path = 0\n",
    "            for p in range(1, len(px)):\n",
    "                finger_path = finger_path + get3Distance(px[p-1], py[p-1], pz[p-1], px[p], py[p], pz[p])\n",
    "            \n",
    "            try:\n",
    "                efficiency = key_distance / finger_path\n",
    "                if efficiency <= 1:\n",
    "                    plt.scatter(efficiency, iki[t], c = \"red\")\n",
    "            except ZeroDivisionError: None\n",
    "                \n",
    "    plt.savefig(person + \".png\")\n",
    "    count = count + 1"
   ]
  }
 ],
 "metadata": {
  "kernelspec": {
   "display_name": "Python 3",
   "language": "python",
   "name": "python3"
  },
  "language_info": {
   "codemirror_mode": {
    "name": "ipython",
    "version": 3
   },
   "file_extension": ".py",
   "mimetype": "text/x-python",
   "name": "python",
   "nbconvert_exporter": "python",
   "pygments_lexer": "ipython3",
   "version": "3.6.4"
  }
 },
 "nbformat": 4,
 "nbformat_minor": 2
}
