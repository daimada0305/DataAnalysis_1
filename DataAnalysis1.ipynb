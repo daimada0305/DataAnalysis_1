{
 "cells": [
  {
   "cell_type": "code",
   "execution_count": null,
   "metadata": {},
   "outputs": [],
   "source": [
    "#draw nearest fixation points before tapping on target keys(red dots)\n",
    "def drawFix(x, y, key):\n",
    " \n",
    "    from PIL import Image, ImageDraw, ImageFont\n",
    "    import matplotlib.pyplot as plt\n",
    "    from matplotlib.patches import Circle\n",
    "\n",
    "    image = Image.open('back.png')\n",
    "    draw = ImageDraw.Draw(image)\n",
    "       \n",
    "    for index in range(len(x)):\n",
    "        draw.ellipse((x[index], y[index], x[index]+10, y[index]+10), fill = (255, 0, 0))\n",
    "        \n",
    "    font1 = ImageFont.truetype(\"arial.ttf\", 80)\n",
    "    #draw.text((keyToXY(key)[0],keyToXY(key)[1]), key,  fill=(255, 255, 255), font=font1)\n",
    "    \n",
    "    image.save(key+ \".png\")\n",
    "    #image.show()"
   ]
  },
  {
   "cell_type": "code",
   "execution_count": null,
   "metadata": {},
   "outputs": [],
   "source": []
  }
 ],
 "metadata": {
  "kernelspec": {
   "display_name": "Python 3",
   "language": "python",
   "name": "python3"
  },
  "language_info": {
   "codemirror_mode": {
    "name": "ipython",
    "version": 3
   },
   "file_extension": ".py",
   "mimetype": "text/x-python",
   "name": "python",
   "nbconvert_exporter": "python",
   "pygments_lexer": "ipython3",
   "version": "3.6.4"
  }
 },
 "nbformat": 4,
 "nbformat_minor": 2
}
