{
 "cells": [
  {
   "cell_type": "code",
   "execution_count": 49,
   "metadata": {},
   "outputs": [],
   "source": [
    "import os\n",
    "import os.path\n",
    "import csv\n",
    "import pandas as pd"
   ]
  },
  {
   "cell_type": "code",
   "execution_count": 50,
   "metadata": {},
   "outputs": [],
   "source": [
    "def drawFix(x0, y0, x1, y1, key):\n",
    " \n",
    "    from PIL import Image, ImageDraw\n",
    "\n",
    "    if (os.path.isfile('..//img//'+ key +\".png\")):\n",
    "        image = Image.open('..//img//'+ key +\".png\")\n",
    "    else:\n",
    "        image = Image.open('..//img//back.png')\n",
    "        \n",
    "    \n",
    "    draw = ImageDraw.Draw(image)\n",
    "    draw.line(x0, y0, x1, y1)\n",
    "   \n",
    "    image.save('..//img//'+ key + \".png\")"
   ]
  },
  {
   "cell_type": "code",
   "execution_count": 51,
   "metadata": {},
   "outputs": [],
   "source": [
    "def x_cm2pic(x):\n",
    "    xscale =1838-594 ; x0 = 94; xim = 500\n",
    "    return x*xscale+x0+xim\n",
    "    \n",
    "def y_cm2pic(y):\n",
    "    yscale =2524-1920 ; y0 = 1720; yim = 200\n",
    "    return y*yscale+y0+yim\n",
    "\n",
    "def xy_cm2pic(x,y):\n",
    "    return [x_cm2pic(x),y_cm2pic(y)]"
   ]
  },
  {
   "cell_type": "code",
   "execution_count": 60,
   "metadata": {},
   "outputs": [],
   "source": [
    "tPath = '..//data//tlogs_'  #フォルダからデータの取り出し\n",
    "fPath = '..//data//fixations_'\n",
    "tFiles= os.listdir(tPath) # データの読み込み\n",
    "\n",
    "for tFile in tFiles :\n",
    "    \n",
    "    tf = pd.read_csv(tPath + '/' + tFile).drop(0).reset_index(drop=True) #要らないデータを消して添字を修正\n",
    "    tf['wordtime'] = tf['wordtime'] - 120\n",
    "    \n",
    "    ff = pd.read_csv(fPath + '/' + tFile.replace('tlog', 'fixations'))\n",
    "    ff = ff[ff.trialtime > -120 ].reset_index(drop=True)\n",
    "    fLength = len(ff.index)-1\n",
    "    \n",
    "    j=0\n",
    "    list=[]\n",
    "    for i in range(len(tf.index)-1):\n",
    "        \n",
    "        key = tf['message'][i+1][:-2]\n",
    "        while(tf['wordtime'][i+1] > ff['trialtime'][j]):\n",
    "            x=x_cm2pic(ff['x'][j]) \n",
    "            y=y_cm2pic(ff['y'][j])\n",
    "            list.append([x, y])\n",
    "            if(j+1 > fLength):break\n",
    "            j = j+1\n",
    "        \n",
    "        for index in range(1, len(list)):\n",
    "            drawFix(list[index-1][0], list[index-1][1], list[index][0], list[index][1], key)\n"
   ]
  }
 ],
 "metadata": {
  "kernelspec": {
   "display_name": "Python 3",
   "language": "python",
   "name": "python3"
  },
  "language_info": {
   "codemirror_mode": {
    "name": "ipython",
    "version": 3
   },
   "file_extension": ".py",
   "mimetype": "text/x-python",
   "name": "python",
   "nbconvert_exporter": "python",
   "pygments_lexer": "ipython3",
   "version": "3.6.4"
  }
 },
 "nbformat": 4,
 "nbformat_minor": 2
}
